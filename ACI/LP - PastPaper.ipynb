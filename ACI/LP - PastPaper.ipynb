{
 "cells": [
  {
   "cell_type": "markdown",
   "metadata": {},
   "source": [
    "A shop owner is selling three different items A, B, C, each yielding a profit of €225, €200 and €250\n",
    "respectively. The owner can only store a total of 2,000 units. The supplier requires that a minimum\n",
    "amount of each is ordered, 10 units, 15 units and 20 units respectively. The owner has a budget of\n",
    "€10,000 and each item costs €175, €125, and €200 respectively. Can you recommend the ideal\n",
    "mix to maximize profits? You can assume that only whole products can be created (whole\n",
    "numbers/integers)"
   ]
  },
  {
   "cell_type": "code",
   "execution_count": 2,
   "metadata": {},
   "outputs": [],
   "source": [
    "import pulp"
   ]
  },
  {
   "cell_type": "code",
   "execution_count": null,
   "metadata": {},
   "outputs": [
    {
     "name": "stdout",
     "output_type": "stream",
     "text": [
      "Shop:\n",
      "MAXIMIZE\n",
      "225*ItemA + 200*ItemB + 250*ItemC + 0\n",
      "VARIABLES\n",
      "0 <= ItemA Integer\n",
      "0 <= ItemB Integer\n",
      "0 <= ItemC Integer\n",
      "\n",
      "1\n",
      "ItemA = 10.0\n",
      "ItemB = 34.0\n",
      "ItemC = 20.0\n",
      "Profit = 14050.0\n"
     ]
    }
   ],
   "source": [
    "lp = pulp.LpProblem(\"Shop\", pulp.LpMaximize)\n",
    "\n",
    "# Variable Values\n",
    "\n",
    "aProfit = 225\n",
    "bProfit = 200\n",
    "cProfit = 250\n",
    "aCost = 175\n",
    "bCost = 125\n",
    "cCost = 200\n",
    "budget = 10000\n",
    "totalUnits = 2000\n",
    "\n",
    "# LP Variables\n",
    "\n",
    "a = pulp.LpVariable(name=\"ItemA\", lowBound=0, cat=\"Integer\")\n",
    "b = pulp.LpVariable(name=\"ItemB\", lowBound=0, cat=\"Integer\")\n",
    "c = pulp.LpVariable(name=\"ItemC\", lowBound=0, cat=\"Integer\")\n",
    "\n",
    "# Objective is to maximize profit, therefore a*aProfit + b*bProfit + c*cProfit\n",
    "lp.objective = a*aProfit + b*bProfit + c*cProfit\n",
    "print(lp)\n",
    "\n",
    "# Constraints\n",
    "# items*itemsCost musn't exceed budget\n",
    "# amount of units musn't exceed total units\n",
    "# a, b, c must be minimum 10, 15, 20 respectively.\n",
    "\n",
    "lp.addConstraint(a*aCost+b*bCost+c*cCost<=budget, \"budget_cons\")\n",
    "lp.addConstraint(a+b+c<=totalUnits, \"unit_cons\")\n",
    "lp.addConstraint(a >= 10, \"a_minimum\")\n",
    "lp.addConstraint(b >= 15, \"b_minimum\")\n",
    "lp.addConstraint(c >= 20, \"c_minimum\")\n",
    "\n",
    "# Solve\n",
    "status = lp.solve(pulp.PULP_CBC_CMD(msg=0))\n",
    "print(status)\n",
    "\n",
    "# Results\n",
    "for var in lp.variables():\n",
    "    print(f'{var} = {pulp.value(var)}')\n",
    "\n",
    "print(f'Profit = {pulp.value(lp.objective)}')"
   ]
  },
  {
   "cell_type": "markdown",
   "metadata": {},
   "source": [
    "A homeowner wants to install some solar panels, in three locations, his main residence rooftop, his\n",
    "garage rooftop and his penthouse rooftop. Each property has a different available floor space given\n",
    "below. There are three different types of solar units for him to choose from, each with a different\n",
    "footprint, electricity generation and cost. Can you identify the ideal mix of solar panels in each\n",
    "property to maximize the electricity generation whilst remaining within a budget of €16,000?\n",
    "\n",
    "Solar Unit Type Cost per unit Area per unit Electricity generation Property   AvailablArea\n",
    "1               €200          2 m2           2 kwh                  Home      100 m2\n",
    "2               €260          4 m2           3 kwh                  Garage    20 m2\n",
    "3               €350          5 m2           4 kwh                  Penthouse 80 m2\n"
   ]
  },
  {
   "cell_type": "code",
   "execution_count": 5,
   "metadata": {},
   "outputs": [
    {
     "name": "stdout",
     "output_type": "stream",
     "text": [
      "Electricity:\n",
      "MAXIMIZE\n",
      "2*Panel1_Garage + 2*Panel1_Home + 2*Panel1_Penthouse + 3*Panel2_Garage + 3*Panel2_Home + 3*Panel2_Penthouse + 4*Panel3_Garage + 4*Panel3_Home + 4*Panel3_Penthouse + 0\n",
      "VARIABLES\n",
      "0 <= Panel1_Garage Integer\n",
      "0 <= Panel1_Home Integer\n",
      "0 <= Panel1_Penthouse Integer\n",
      "0 <= Panel2_Garage Integer\n",
      "0 <= Panel2_Home Integer\n",
      "0 <= Panel2_Penthouse Integer\n",
      "0 <= Panel3_Garage Integer\n",
      "0 <= Panel3_Home Integer\n",
      "0 <= Panel3_Penthouse Integer\n",
      "\n",
      "1\n",
      "Panel1_Garage = 3.0\n",
      "Panel1_Home = 25.0\n",
      "Panel1_Penthouse = 5.0\n",
      "Panel2_Garage = 1.0\n",
      "Panel2_Home = 0.0\n",
      "Panel2_Penthouse = 0.0\n",
      "Panel3_Garage = 2.0\n",
      "Panel3_Home = 10.0\n",
      "Panel3_Penthouse = 14.0\n",
      "Electricity Profit = 173.0Kwh\n"
     ]
    }
   ],
   "source": [
    "lp = pulp.LpProblem(\"Electricity\", pulp.LpMaximize)\n",
    "\n",
    "# lp variables\n",
    "\n",
    "p1_home = pulp.LpVariable(name=\"Panel1_Home\", lowBound=0, cat=\"Integer\")\n",
    "p2_home = pulp.LpVariable(name=\"Panel2_Home\", lowBound=0, cat=\"Integer\")\n",
    "p3_home = pulp.LpVariable(name=\"Panel3_Home\", lowBound=0, cat=\"Integer\")\n",
    "p1_gar = pulp.LpVariable(name=\"Panel1_Garage\", lowBound=0, cat=\"Integer\")\n",
    "p2_gar = pulp.LpVariable(name=\"Panel2_Garage\", lowBound=0, cat=\"Integer\")\n",
    "p3_gar = pulp.LpVariable(name=\"Panel3_Garage\", lowBound=0, cat=\"Integer\")\n",
    "p1_pent = pulp.LpVariable(name=\"Panel1_Penthouse\", lowBound=0, cat=\"Integer\")\n",
    "p2_pent = pulp.LpVariable(name=\"Panel2_Penthouse\", lowBound=0, cat=\"Integer\")\n",
    "p3_pent = pulp.LpVariable(name=\"Panel3_Penthouse\", lowBound=0, cat=\"Integer\")\n",
    "budget = 16000\n",
    "\n",
    "# Objective is to maximize Electricity\n",
    "lp.objective = p1_home*2 + p2_home*3 + p3_home*4 + p1_gar*2 + p2_gar*3 + p3_gar*4 +  p1_pent*2 + p2_pent*3 + p3_pent*4\n",
    "print(lp)\n",
    "\n",
    "# LP Constraints\n",
    "\n",
    "lp.addConstraint(p1_home*200 + p2_home*260 + p3_home*350 + p1_gar*200 + p2_gar*260 + p3_gar*350 + p1_pent*200 + p2_pent*260 + p3_pent*350 <= budget, \"budget_cons\")\n",
    "lp.addConstraint(p1_home*2 + p2_home*4 + p3_home*5 <= 100, \"home_cons\")\n",
    "lp.addConstraint(p1_gar*2 + p2_gar*4 + p3_gar*5 <= 20, \"garage_cons\")\n",
    "lp.addConstraint(p1_pent*2 + p2_pent*4 + p3_pent*5 <= 80, \"pent_cons\")\n",
    "\n",
    "# Solve\n",
    "status = lp.solve(pulp.PULP_CBC_CMD(msg=0))\n",
    "print(status)\n",
    "\n",
    "# Results\n",
    "for var in lp.variables():\n",
    "    print(f'{var} = {pulp.value(var)}')\n",
    "\n",
    "print(f'Electricity Profit = {pulp.value(lp.objective)}Kwh')"
   ]
  }
 ],
 "metadata": {
  "kernelspec": {
   "display_name": "aci",
   "language": "python",
   "name": "python3"
  },
  "language_info": {
   "codemirror_mode": {
    "name": "ipython",
    "version": 3
   },
   "file_extension": ".py",
   "mimetype": "text/x-python",
   "name": "python",
   "nbconvert_exporter": "python",
   "pygments_lexer": "ipython3",
   "version": "3.12.7"
  }
 },
 "nbformat": 4,
 "nbformat_minor": 2
}

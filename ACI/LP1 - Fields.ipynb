{
 "cells": [
  {
   "cell_type": "code",
   "execution_count": 14,
   "metadata": {},
   "outputs": [],
   "source": [
    "import pulp"
   ]
  },
  {
   "cell_type": "markdown",
   "metadata": {},
   "source": [
    "### Field Problem\n",
    "\n",
    "Suppose a farmer has 75 acres on which to plant two crops: wheat and barley. To produce these crops, it costs the farmer (for seed, fertilizer, etc.) $120 per acre for the wheat and $210 per acre for the barley.\n",
    " \n",
    "The farmer has $15000 available for expenses.\n",
    " \n",
    "But after the harvest, the farmer must store the crops while awaiting favorable market conditions. The farmer has storage space for 4000 bushels. Each acre yields an average of 110 bushels of wheat or 30 bushels of barley.\n",
    " \n",
    "If the net profit per bushel of wheat (after all expenses have been subtracted) is $1.30 and for barley is $2.00, how should the farmer plant the 75 acres to maximize profit?\n",
    "\n",
    "# Setting up the problem\n",
    "\n",
    "- Create an `LpProblem`\n",
    "- Define variables (wheat and barley)"
   ]
  },
  {
   "cell_type": "code",
   "execution_count": 15,
   "metadata": {},
   "outputs": [],
   "source": [
    "lp = pulp.LpProblem(\"Field\", pulp.LpMaximize)\n",
    "\n",
    "# constants\n",
    "acres = 75\n",
    "wPerAcre = 120\n",
    "bPerAcre = 210\n",
    "budget = 15000\n",
    "maxBushels = 4000\n",
    "wBushelPerAcre = 110\n",
    "bBushelPerAcre = 30\n",
    "wProfit = 1.3\n",
    "bProfit = 2\n",
    "\n",
    "# variables\n",
    "\n",
    "w = pulp.LpVariable(name=\"Wheat\", lowBound=0)\n",
    "b = pulp.LpVariable(name=\"Barley\", lowBound=0)"
   ]
  },
  {
   "cell_type": "markdown",
   "metadata": {},
   "source": [
    "### Determine the objective\n",
    "\n",
    "- Barley has a net profit of 2 and every acre yields 30 bushels so: $b*2*30$\n",
    "- Wheat has a net profit of 1.3 and every acre yields 110 bushels so: $w*1.3*110$\n",
    "\n",
    "We want to maximize profit: $max(p) = b*2*30 + w*1.3*110$"
   ]
  },
  {
   "cell_type": "code",
   "execution_count": 16,
   "metadata": {},
   "outputs": [
    {
     "name": "stdout",
     "output_type": "stream",
     "text": [
      "Field:\n",
      "MAXIMIZE\n",
      "60*Barley + 143.0*Wheat + 0.0\n",
      "VARIABLES\n",
      "Barley Continuous\n",
      "Wheat Continuous\n",
      "\n"
     ]
    }
   ],
   "source": [
    "lp.objective = bBushelPerAcre*bProfit*b + wBushelPerAcre*wProfit*w\n",
    "print(lp)"
   ]
  },
  {
   "cell_type": "markdown",
   "metadata": {},
   "source": [
    "### Constraints\n",
    "\n",
    "- budget - the total budget is $15,000, wheat costs $120/acre, barley costs $210/acre -- $w*120+b*210<=15000$\n",
    "\n",
    "- storage - the total storage is 4000, wheat needs 110/acre, barley needs 30/acre -- $w*110+b*3*30<=4000$\n",
    "\n",
    "- fields - the total acreage is 75 - $w+b<=75$"
   ]
  },
  {
   "cell_type": "code",
   "execution_count": 17,
   "metadata": {},
   "outputs": [],
   "source": [
    "lp.addConstraint(w*wPerAcre+b*bPerAcre<=15000, \"budget_cons\")\n",
    "lp.addConstraint(w*wBushelPerAcre+b*bBushelPerAcre<=4000, \"storage_cons\")\n",
    "lp.addConstraint(w+b<=75, \"field_cons\")"
   ]
  },
  {
   "cell_type": "markdown",
   "metadata": {},
   "source": [
    "### Solving the Problem\n",
    "\n",
    "we call `solve` to find the optimal solution, and if it's successful it will return a status of 1."
   ]
  },
  {
   "cell_type": "code",
   "execution_count": 18,
   "metadata": {},
   "outputs": [
    {
     "name": "stdout",
     "output_type": "stream",
     "text": [
      "1\n"
     ]
    }
   ],
   "source": [
    "status = lp.solve(pulp.PULP_CBC_CMD(msg=0))\n",
    "print(status)"
   ]
  },
  {
   "cell_type": "code",
   "execution_count": 19,
   "metadata": {},
   "outputs": [
    {
     "name": "stdout",
     "output_type": "stream",
     "text": [
      "Barley = 53.125\n",
      "Wheat = 21.875\n",
      "Profit = 6315.625\n"
     ]
    }
   ],
   "source": [
    "for var in lp.variables():\n",
    "    print(f'{var} = {pulp.value(var)}')\n",
    "\n",
    "print(f'Profit = {pulp.value(lp.objective)}')"
   ]
  }
 ],
 "metadata": {
  "kernelspec": {
   "display_name": "aci",
   "language": "python",
   "name": "python3"
  },
  "language_info": {
   "codemirror_mode": {
    "name": "ipython",
    "version": 3
   },
   "file_extension": ".py",
   "mimetype": "text/x-python",
   "name": "python",
   "nbconvert_exporter": "python",
   "pygments_lexer": "ipython3",
   "version": "3.12.7"
  }
 },
 "nbformat": 4,
 "nbformat_minor": 2
}

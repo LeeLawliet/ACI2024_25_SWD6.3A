{
 "cells": [
  {
   "cell_type": "code",
   "execution_count": 11,
   "metadata": {},
   "outputs": [],
   "source": [
    "import pulp"
   ]
  },
  {
   "cell_type": "markdown",
   "metadata": {},
   "source": [
    "### Problem\n",
    "\n",
    "A gold processor has two sources of gold ore, Source A and Source B.\n",
    "\n",
    "Atleast 3 tons of ore must be processed per day.\n",
    "\n",
    "Source A costs $20 per ton, Source B costs $10 per ton\n",
    "\n",
    "Costs must be less than $80/day\n",
    "\n",
    "Produce of Source B must not exceed twice the amount of Source A.\n",
    "\n",
    "Source A yields 2 oz. of gold per ton, Source B yields 3 oz. of gold per ton.\n",
    "\n",
    "How many tons of ore must be processsed per day to maximize amount of gold."
   ]
  },
  {
   "cell_type": "code",
   "execution_count": 12,
   "metadata": {},
   "outputs": [],
   "source": [
    "lp = pulp.LpProblem(\"Ores\", pulp.LpMaximize)\n",
    "\n",
    "# Constants\n",
    "\n",
    "minOreTonPerDay = 3\n",
    "aPrice = 20\n",
    "bPrice = 10\n",
    "budget = 80\n",
    "aOunces = 2\n",
    "bOunces = 3\n",
    "\n",
    "# Variables\n",
    "\n",
    "a = pulp.LpVariable(name=\"SourceA\", lowBound=0)\n",
    "b = pulp.LpVariable(name=\"SourceB\", lowBound=0)"
   ]
  },
  {
   "cell_type": "code",
   "execution_count": 13,
   "metadata": {},
   "outputs": [],
   "source": [
    "lp.objective = a*aOunces + b*bOunces"
   ]
  },
  {
   "cell_type": "code",
   "execution_count": 14,
   "metadata": {},
   "outputs": [],
   "source": [
    "lp.addConstraint(a+b>=3, \"quota_cons\")\n",
    "lp.addConstraint(a*aPrice+b*bPrice<=budget, \"maxdaily_cons\")\n",
    "lp.addConstraint(b<=2*a, \"sourceb_cons\")"
   ]
  },
  {
   "cell_type": "code",
   "execution_count": 15,
   "metadata": {},
   "outputs": [
    {
     "name": "stdout",
     "output_type": "stream",
     "text": [
      "1\n"
     ]
    }
   ],
   "source": [
    "status = lp.solve(pulp.PULP_CBC_CMD(msg=0))\n",
    "print(status)"
   ]
  },
  {
   "cell_type": "code",
   "execution_count": 16,
   "metadata": {},
   "outputs": [
    {
     "name": "stdout",
     "output_type": "stream",
     "text": [
      "SourceA = 2.0\n",
      "SourceB = 4.0\n",
      "Profit = 16.0\n"
     ]
    }
   ],
   "source": [
    "for var in lp.variables():\n",
    "    print(f'{var} = {pulp.value(var)}')\n",
    "\n",
    "print(f'Profit = {pulp.value(lp.objective)}')"
   ]
  }
 ],
 "metadata": {
  "kernelspec": {
   "display_name": "aci",
   "language": "python",
   "name": "python3"
  },
  "language_info": {
   "codemirror_mode": {
    "name": "ipython",
    "version": 3
   },
   "file_extension": ".py",
   "mimetype": "text/x-python",
   "name": "python",
   "nbconvert_exporter": "python",
   "pygments_lexer": "ipython3",
   "version": "3.12.7"
  }
 },
 "nbformat": 4,
 "nbformat_minor": 2
}

{
 "cells": [
  {
   "cell_type": "code",
   "execution_count": 12,
   "metadata": {},
   "outputs": [],
   "source": [
    "import pulp"
   ]
  },
  {
   "cell_type": "markdown",
   "metadata": {},
   "source": [
    "### Problem\n",
    "\n",
    "A company produces two types of tables, T1 and T2.\n",
    "It takes 2 hours to produce the parts of one unit of T1, 1 hour to assemble and 2 hours to polish.\n",
    "It takes 3 hours to produce the parts of one unit of T2, 2.5 hour to assemble and 1.5 hours to polish. \n",
    "Per month, 7000 hours are available for producing the part\n",
    "4000 hours for assembling the parts\n",
    "and 5500 hours for polishing the tables.\n",
    "The profit per unit of T1 is $90 and per unit of T2 is $110.\n",
    "How many of each type of tables should be produced in order to maximize the total monthly profit? "
   ]
  },
  {
   "cell_type": "code",
   "execution_count": 13,
   "metadata": {},
   "outputs": [],
   "source": [
    "lp = pulp.LpProblem(\"Tables\", pulp.LpMaximize)\n",
    "\n",
    "# Constants\n",
    "\n",
    "t1HoursToProduce = 2\n",
    "t1HoursToAssemble = 1\n",
    "t1HoursToPolish = 2\n",
    "t2HoursToProduce = 3\n",
    "t2HoursToAssemble = 2.5\n",
    "t2HoursToPolish = 1.5\n",
    "MaxHoursToProduce = 7000\n",
    "MaxHoursToAssemble = 4000\n",
    "MaxHoursToPolish = 5500\n",
    "t1Profit = 90\n",
    "t2Profit = 110\n",
    "\n",
    "# Variables\n",
    "\n",
    "t1 = pulp.LpVariable(name=\"T1\", lowBound=0, cat=\"Integer\")\n",
    "t2 = pulp.LpVariable(name=\"T2\", lowBound=0, cat=\"Integer\")"
   ]
  },
  {
   "cell_type": "code",
   "execution_count": 14,
   "metadata": {},
   "outputs": [],
   "source": [
    "lp.objective = t1*t1Profit + t2*t2Profit"
   ]
  },
  {
   "cell_type": "code",
   "execution_count": 15,
   "metadata": {},
   "outputs": [],
   "source": [
    "lp.addConstraint(t1*t1HoursToProduce+t2*t2HoursToProduce<=MaxHoursToProduce, \"production_cons\")\n",
    "lp.addConstraint(t1*t1HoursToAssemble+t2*t2HoursToAssemble<=MaxHoursToAssemble, \"assemble_cons\")\n",
    "lp.addConstraint(t1*t1HoursToPolish+t2*t2HoursToPolish<=MaxHoursToPolish, \"polish_cons\")"
   ]
  },
  {
   "cell_type": "code",
   "execution_count": 16,
   "metadata": {},
   "outputs": [
    {
     "name": "stdout",
     "output_type": "stream",
     "text": [
      "1\n"
     ]
    }
   ],
   "source": [
    "status = lp.solve(pulp.PULP_CBC_CMD(msg=0))\n",
    "print(status)"
   ]
  },
  {
   "cell_type": "code",
   "execution_count": 17,
   "metadata": {},
   "outputs": [
    {
     "name": "stdout",
     "output_type": "stream",
     "text": [
      "T1 = 2214.0\n",
      "T2 = 714.0\n",
      "Profit = 277800.0\n"
     ]
    }
   ],
   "source": [
    "for var in lp.variables():\n",
    "    print(f'{var} = {pulp.value(var)}')\n",
    "\n",
    "print(f'Profit = {pulp.value(lp.objective)}')"
   ]
  }
 ],
 "metadata": {
  "kernelspec": {
   "display_name": "aci",
   "language": "python",
   "name": "python3"
  },
  "language_info": {
   "codemirror_mode": {
    "name": "ipython",
    "version": 3
   },
   "file_extension": ".py",
   "mimetype": "text/x-python",
   "name": "python",
   "nbconvert_exporter": "python",
   "pygments_lexer": "ipython3",
   "version": "3.12.7"
  }
 },
 "nbformat": 4,
 "nbformat_minor": 2
}

{
 "cells": [
  {
   "cell_type": "code",
   "execution_count": 20,
   "metadata": {},
   "outputs": [],
   "source": [
    "import pulp"
   ]
  },
  {
   "cell_type": "markdown",
   "metadata": {},
   "source": [
    "### Problem\n",
    "\n",
    "A store sells two types of toys, A and B.\n",
    "\n",
    "The store owners pay $8 for Type A, $14 for Type B\n",
    "\n",
    "TypeA yields profit of $2/unit, TypeB yields profit of $3/unit\n",
    "\n",
    "No more than 2000 toys will be sold per month.\n",
    "\n",
    "Budget is 20,000\n",
    "\n",
    "Calculate to maximize monthly profit."
   ]
  },
  {
   "cell_type": "code",
   "execution_count": 21,
   "metadata": {},
   "outputs": [],
   "source": [
    "lp = pulp.LpProblem(\"Toys\", pulp.LpMaximize)\n",
    "\n",
    "# Constants\n",
    "\n",
    "budget = 20000\n",
    "maxPerMonth = 2000\n",
    "aPrice = 8\n",
    "bPrice = 14\n",
    "aProfit = 2\n",
    "bProfit = 3\n",
    "\n",
    "# Variables\n",
    "\n",
    "a = pulp.LpVariable(name=\"TypeA\", lowBound=0, cat=\"Integer\")\n",
    "b = pulp.LpVariable(name=\"TypeB\", lowBound=0, cat=\"Integer\")"
   ]
  },
  {
   "cell_type": "code",
   "execution_count": 22,
   "metadata": {},
   "outputs": [
    {
     "name": "stdout",
     "output_type": "stream",
     "text": [
      "Toys:\n",
      "MAXIMIZE\n",
      "2*TypeA + 3*TypeB + 0\n",
      "VARIABLES\n",
      "0 <= TypeA Integer\n",
      "0 <= TypeB Integer\n",
      "\n"
     ]
    }
   ],
   "source": [
    "lp.objective = 1*aProfit*a + 1*bProfit*b\n",
    "print(lp)"
   ]
  },
  {
   "cell_type": "code",
   "execution_count": 23,
   "metadata": {},
   "outputs": [],
   "source": [
    "lp.addConstraint(a*1+b*1<=2000, \"monthlysales_cons\")\n",
    "lp.addConstraint(a*aPrice+b*bPrice<=20000, \"budget_cons\")"
   ]
  },
  {
   "cell_type": "code",
   "execution_count": 24,
   "metadata": {},
   "outputs": [
    {
     "name": "stdout",
     "output_type": "stream",
     "text": [
      "1\n"
     ]
    }
   ],
   "source": [
    "status = lp.solve(pulp.PULP_CBC_CMD(msg=0))\n",
    "print(status)"
   ]
  },
  {
   "cell_type": "code",
   "execution_count": 25,
   "metadata": {},
   "outputs": [
    {
     "name": "stdout",
     "output_type": "stream",
     "text": [
      "TypeA = 1334.0\n",
      "TypeB = 666.0\n",
      "Profit = 4666.0\n"
     ]
    }
   ],
   "source": [
    "for var in lp.variables():\n",
    "    print(f'{var} = {pulp.value(var)}')\n",
    "\n",
    "print(f'Profit = {pulp.value(lp.objective)}')"
   ]
  }
 ],
 "metadata": {
  "kernelspec": {
   "display_name": "aci",
   "language": "python",
   "name": "python3"
  },
  "language_info": {
   "codemirror_mode": {
    "name": "ipython",
    "version": 3
   },
   "file_extension": ".py",
   "mimetype": "text/x-python",
   "name": "python",
   "nbconvert_exporter": "python",
   "pygments_lexer": "ipython3",
   "version": "3.12.7"
  }
 },
 "nbformat": 4,
 "nbformat_minor": 2
}

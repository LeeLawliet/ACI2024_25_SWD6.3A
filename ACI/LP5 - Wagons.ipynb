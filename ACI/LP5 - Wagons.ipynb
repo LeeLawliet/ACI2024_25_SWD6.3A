{
 "cells": [
  {
   "cell_type": "code",
   "execution_count": 5,
   "metadata": {},
   "outputs": [],
   "source": [
    "import pulp"
   ]
  },
  {
   "cell_type": "code",
   "execution_count": 6,
   "metadata": {},
   "outputs": [],
   "source": [
    "lp = pulp.LpProblem(\"Cargo\", pulp.LpMaximize)\n",
    "\n",
    "w1c1 = pulp.LpVariable(name=\"Wagon1_Cargo1\", lowBound=0, cat=\"Integer\")\n",
    "w1c2 = pulp.LpVariable(name=\"Wagon1_Cargo2\", lowBound=0, cat=\"Integer\")\n",
    "w1c3 = pulp.LpVariable(name=\"Wagon1_Cargo3\", lowBound=0, cat=\"Integer\")\n",
    "w1c4 = pulp.LpVariable(name=\"Wagon1_Cargo4\", lowBound=0, cat=\"Integer\")\n",
    "w2c1 = pulp.LpVariable(name=\"Wagon2_Cargo1\", lowBound=0, cat=\"Integer\")\n",
    "w2c2 = pulp.LpVariable(name=\"Wagon2_Cargo2\", lowBound=0, cat=\"Integer\")\n",
    "w2c3 = pulp.LpVariable(name=\"Wagon2_Cargo3\", lowBound=0, cat=\"Integer\")\n",
    "w2c4 = pulp.LpVariable(name=\"Wagon2_Cargo4\", lowBound=0, cat=\"Integer\")\n",
    "w3c1 = pulp.LpVariable(name=\"Wagon3_Cargo1\", lowBound=0, cat=\"Integer\")\n",
    "w3c2 = pulp.LpVariable(name=\"Wagon3_Cargo2\", lowBound=0, cat=\"Integer\")\n",
    "w3c3 = pulp.LpVariable(name=\"Wagon3_Cargo3\", lowBound=0, cat=\"Integer\")\n",
    "w3c4 = pulp.LpVariable(name=\"Wagon3_Cargo4\", lowBound=0, cat=\"Integer\")\n",
    "\n",
    "lp.objective = w1c1*2000 + w1c2*2500 + w1c3*5000 + w1c4*3500 + w2c1*2000 + w2c2*2500 + w2c3*5000 + w2c4*3500 + w3c1*2000 + w3c2*2500 + w3c3*5000 + w3c4*3500"
   ]
  },
  {
   "cell_type": "code",
   "execution_count": 7,
   "metadata": {},
   "outputs": [],
   "source": [
    "lp.addConstraint(w1c1 + w1c2 + w1c3 + w1c4 <= 10, 'Wagon1_weight')\n",
    "lp.addConstraint(w2c1 + w2c2 + w2c3 + w2c4 <= 8,  'Wagon2_weight')\n",
    "lp.addConstraint(w3c1 + w3c2 + w3c3 + w3c4 <= 12, 'Wagon3_weight')\n",
    "\n",
    "lp.addConstraint(w1c1*400 + w1c2*300 + w1c3*200 + w1c4*500 <= 5000, 'Wagon1_capacity')\n",
    "lp.addConstraint(w2c1*400 + w2c2*300 + w2c3*200 + w2c4*500 <= 4000, 'Wagon2_capacity')\n",
    "lp.addConstraint(w3c1*400 + w3c2*300 + w3c3*200 + w3c4*500 <= 8000, 'Wagon3_capacity')\n",
    "\n",
    "lp.addConstraint(w1c1 + w2c1 + w3c1 <= 18, 'cargo1_availability')\n",
    "lp.addConstraint(w1c2 + w2c2 + w3c2 <= 10, 'cargo2_availability')\n",
    "lp.addConstraint(w1c3 + w2c3 + w3c3 <= 5, 'cargo3_availability')\n",
    "lp.addConstraint(w1c4 + w2c4 + w3c4 <= 20, 'cargo4_availability')\n",
    "\n"
   ]
  },
  {
   "cell_type": "code",
   "execution_count": 8,
   "metadata": {},
   "outputs": [
    {
     "name": "stdout",
     "output_type": "stream",
     "text": [
      "Status: 1\n",
      "Wagon1_Cargo1 = 0.0\n",
      "Wagon1_Cargo2 = 2.0\n",
      "Wagon1_Cargo3 = 0.0\n",
      "Wagon1_Cargo4 = 8.0\n",
      "Wagon2_Cargo1 = 0.0\n",
      "Wagon2_Cargo2 = 3.0\n",
      "Wagon2_Cargo3 = 5.0\n",
      "Wagon2_Cargo4 = 0.0\n",
      "Wagon3_Cargo1 = 0.0\n",
      "Wagon3_Cargo2 = 0.0\n",
      "Wagon3_Cargo3 = 0.0\n",
      "Wagon3_Cargo4 = 12.0\n",
      "Profit = 107500.0\n"
     ]
    }
   ],
   "source": [
    "status = lp.solve(pulp.PULP_CBC_CMD(msg=0))\n",
    "print(f'Status: {status}')\n",
    "\n",
    "for var in lp.variables():\n",
    "    print(f'{var} = {pulp.value(var)}')\n",
    "\n",
    "print(f'Profit = {pulp.value(lp.objective)}')"
   ]
  }
 ],
 "metadata": {
  "kernelspec": {
   "display_name": "Python 3",
   "language": "python",
   "name": "python3"
  },
  "language_info": {
   "codemirror_mode": {
    "name": "ipython",
    "version": 3
   },
   "file_extension": ".py",
   "mimetype": "text/x-python",
   "name": "python",
   "nbconvert_exporter": "python",
   "pygments_lexer": "ipython3",
   "version": "3.11.4"
  },
  "orig_nbformat": 4
 },
 "nbformat": 4,
 "nbformat_minor": 2
}

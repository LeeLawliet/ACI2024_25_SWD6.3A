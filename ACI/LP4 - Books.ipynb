{
 "cells": [
  {
   "cell_type": "code",
   "execution_count": 1,
   "metadata": {},
   "outputs": [],
   "source": [
    "import pulp"
   ]
  },
  {
   "attachments": {},
   "cell_type": "markdown",
   "metadata": {},
   "source": [
    "A publisher has orders for 600 copies of a certain text from San Francisco and 400 copies from Sacramento. The company has 700 copies in a warehouse in Novato and 800 copies in a warehouse in Lodi. \n",
    "\n",
    "It costs $5 to ship a text from Novato to San Francisco, but it costs $10 to ship it to\n",
    "Sacramento. It costs $15 to ship a text from Lodi to San Francisco, but it costs $4 to ship it from Lodi to Sacramento. \n",
    "\n",
    "How many copies should the company ship from each warehouse to San Francisco and Sacramento to fill the order at the least cost?\n"
   ]
  },
  {
   "cell_type": "code",
   "execution_count": 3,
   "metadata": {},
   "outputs": [],
   "source": [
    "lp = pulp.LpProblem(\"Shipping\", pulp.LpMinimize)\n",
    "\n",
    "no_sf = pulp.LpVariable(name=\"Novato_SF\", lowBound=0, cat=\"Integer\")\n",
    "no_sa = pulp.LpVariable(name=\"Novato_SA\", lowBound=0, cat=\"Integer\")\n",
    "lo_sf = pulp.LpVariable(name=\"Lodi_SF\", lowBound=0, cat=\"Integer\")\n",
    "lo_sa = pulp.LpVariable(name=\"Lodi_SA\", lowBound=0, cat=\"Integer\")\n",
    "\n",
    "lp.objective = no_sf*5 + no_sa*10 + lo_sf*15 + lo_sa*4"
   ]
  },
  {
   "attachments": {},
   "cell_type": "markdown",
   "metadata": {},
   "source": [
    "|Constraint|no_sf|no_sa|lo_sf|lo_sa|Limit Value|\n",
    "|---|---|---|---|---|---|\n",
    "|SF Requirements|1|0|1|0|==600|\n",
    "|SA Requirements|0|1|0|1|==400|\n",
    "|Novato Supply|1|1|0|0|<=700|\n",
    "|Lodi Supply|0|0|1|1|<=800|"
   ]
  },
  {
   "cell_type": "code",
   "execution_count": 4,
   "metadata": {},
   "outputs": [],
   "source": [
    "lp.addConstraint(no_sf + lo_sf == 600, \"sf_req\")\n",
    "lp.addConstraint(no_sa + lo_sa == 400, \"sa_req\")\n",
    "lp.addConstraint(no_sf + no_sa <= 700, \"novato_supply\")\n",
    "lp.addConstraint(lo_sf + lo_sa <= 800, \"lodi_supply\")"
   ]
  },
  {
   "cell_type": "code",
   "execution_count": 6,
   "metadata": {},
   "outputs": [
    {
     "name": "stdout",
     "output_type": "stream",
     "text": [
      "Status: 1\n",
      "Lodi_SA = 400.0\n",
      "Lodi_SF = 0.0\n",
      "Novato_SA = 0.0\n",
      "Novato_SF = 600.0\n",
      "Cost = 4600.0\n"
     ]
    }
   ],
   "source": [
    "status = lp.solve(pulp.PULP_CBC_CMD(msg=0))\n",
    "print(f'Status: {status}')\n",
    "\n",
    "for var in lp.variables():\n",
    "    print(f'{var} = {pulp.value(var)}')\n",
    "\n",
    "print(f'Cost = {pulp.value(lp.objective)}')"
   ]
  }
 ],
 "metadata": {
  "kernelspec": {
   "display_name": "Python 3",
   "language": "python",
   "name": "python3"
  },
  "language_info": {
   "codemirror_mode": {
    "name": "ipython",
    "version": 3
   },
   "file_extension": ".py",
   "mimetype": "text/x-python",
   "name": "python",
   "nbconvert_exporter": "python",
   "pygments_lexer": "ipython3",
   "version": "3.11.4"
  },
  "orig_nbformat": 4
 },
 "nbformat": 4,
 "nbformat_minor": 2
}
